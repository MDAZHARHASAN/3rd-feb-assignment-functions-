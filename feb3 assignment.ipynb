{
 "cells": [
  {
   "cell_type": "code",
   "execution_count": 1,
   "id": "d3423698-9010-4d3d-8602-63bb3bde0443",
   "metadata": {},
   "outputs": [],
   "source": [
    "#Q1. Which keyword is used to create a function? Create a function to return a list of odd numbers in the range of 1 to 25."
   ]
  },
  {
   "cell_type": "code",
   "execution_count": 2,
   "id": "9fbbf7a4-bb30-4aa5-93b1-00d66a335f2d",
   "metadata": {},
   "outputs": [
    {
     "name": "stdout",
     "output_type": "stream",
     "text": [
      "[1, 3, 5, 7, 9, 11, 13, 15, 17, 19, 21, 23, 25]\n"
     ]
    }
   ],
   "source": [
    "#Ans. The def keyword is used to create or define a function.\n",
    "#Function to return a list of odd numbers in the range of 1 to 25:\n",
    "def odd_numbers(n):\n",
    "    return [x for x in range(n + 1) if x % 2 == 1]\n",
    "\n",
    "print(odd_numbers(25))  \n",
    "    \n",
    "    "
   ]
  },
  {
   "cell_type": "code",
   "execution_count": 3,
   "id": "a1883730-f2ed-45e3-b88a-e3821ce6e592",
   "metadata": {},
   "outputs": [],
   "source": [
    "#Q2. Why *args and **kwargs is used in some functions? Create a function each for *args and **kwargs to demonstrate their use."
   ]
  },
  {
   "cell_type": "code",
   "execution_count": 1,
   "id": "72777a75-05bb-471b-afc2-86adb73eee35",
   "metadata": {},
   "outputs": [
    {
     "name": "stdout",
     "output_type": "stream",
     "text": [
      "Hello\n",
      "Welcome\n",
      "to\n",
      "my notebook\n"
     ]
    },
    {
     "data": {
      "text/plain": [
       "{'name': 'md azhar', 'course': 'data science masters'}"
      ]
     },
     "execution_count": 1,
     "metadata": {},
     "output_type": "execute_result"
    }
   ],
   "source": [
    "#Ans. We use *args and **kwargs as an argument when we are unsure about the number of arguments to pass in the functions.\n",
    "#Args: The special syntax *args in function definitions in python is used to pass a variable number of arguments to a function.\n",
    "#It is used to pass a non-key worded, variable-length argument list. \n",
    "#Example\n",
    "def welcome_mssg(*args):\n",
    "\tfor arg in args:\n",
    "\t\tprint(arg)\n",
    "welcome_mssg('Hello', 'Welcome', 'to', 'my notebook')\n",
    "\n",
    "#Kwargs: The special syntax **kwargs in function definitions in python is used to pass a keyworded,\n",
    "#variable-length argument list. We use the name kwargs with the double star. \n",
    "#The reason is that the double star allows us to pass through keyword arguments (and any number of them).\n",
    "#Example\n",
    "def my_function(**kwargs):\n",
    "    return kwargs\n",
    "my_function(name='md azhar',course='data science masters')\n",
    "\n",
    "\n"
   ]
  },
  {
   "cell_type": "code",
   "execution_count": 10,
   "id": "d6ee9e08-f3fa-42d3-8a57-6b5c418703d2",
   "metadata": {},
   "outputs": [],
   "source": [
    "#Q3. What is an iterator in python? Name the method used to initialise the iterator object and the method used for\n",
    "#iteration. Use these methods to print the first five elements of the given list [2, 4, 6, 8, 10, 12, 14,16, 18, 20]."
   ]
  },
  {
   "cell_type": "code",
   "execution_count": 2,
   "id": "6f0ef285-98cc-4a1a-a708-50c3e90f10a4",
   "metadata": {},
   "outputs": [
    {
     "name": "stdout",
     "output_type": "stream",
     "text": [
      "2\n",
      "4\n",
      "6\n",
      "8\n",
      "10\n"
     ]
    }
   ],
   "source": [
    "#In Python, an iterator is an object that provides a sequence of values from a container, such as a list or a tuple.\n",
    "#An iterator allows you to loop through the elements of a container, one at a time, without the need to access the container directly.\n",
    "\n",
    "# The method used to initialize an iterator object is iter().\n",
    "# The method used for iteration is next(). The next() method retrieves the next element from the iterator.\n",
    "my_list = [2, 4, 6, 8, 10, 12, 14, 16, 18, 20]\n",
    "\n",
    "# Initialize the iterator object\n",
    "my_iterator = iter(my_list)\n",
    "\n",
    "# Iterate through the first five elements using next() method\n",
    "print(next(my_iterator))\n",
    "print(next(my_iterator))\n",
    "print(next(my_iterator))\n",
    "print(next(my_iterator))\n",
    "print(next(my_iterator))\n"
   ]
  },
  {
   "cell_type": "code",
   "execution_count": 3,
   "id": "05066644-d03f-47ee-b682-16284251f42a",
   "metadata": {},
   "outputs": [],
   "source": [
    "#Q4. What is a generator function in python? Why yield keyword is used? Give an example of a generator function."
   ]
  },
  {
   "cell_type": "code",
   "execution_count": 5,
   "id": "ff6226e0-afb5-42c3-b4ee-58187815bf27",
   "metadata": {},
   "outputs": [
    {
     "name": "stdout",
     "output_type": "stream",
     "text": [
      "0\n",
      "1\n",
      "1\n",
      "2\n",
      "3\n",
      "5\n",
      "8\n",
      "13\n",
      "21\n",
      "34\n"
     ]
    }
   ],
   "source": [
    "# In Python, a generator function is a special type of function that generates an iterator object. Unlike regular functions,\n",
    "# which return a single value and then exit, generator functions use the yield keyword to return a sequence of values,\n",
    "# one at a time, and then pause their execution until the next value is requested.\n",
    "# The yield keyword is used to produce a value from the generator function, \n",
    "# and then temporarily suspend the function's execution, allowing the calling code to resume.\n",
    "# When the next value is requested, the generator function resumes from where it left off,\n",
    "# and continues generating values until the end of the sequence is reached, or until the calling code stops iterating.\n",
    "def fibonacci(n):\n",
    "    a, b = 0, 1\n",
    "    for i in range(n):\n",
    "        yield a\n",
    "        a, b = b, a + b\n",
    "for num in fibonacci(10):\n",
    "    print(num)\n",
    "# Here's an example of how to use the fibonacci() generator function to print the first 10 numbers in the Fibonacci sequence:\n",
    "\n",
    "\n"
   ]
  },
  {
   "cell_type": "code",
   "execution_count": 6,
   "id": "4d1a5bbb-a76b-439c-8865-d33cd116f45f",
   "metadata": {},
   "outputs": [],
   "source": [
    "#Q5. Create a generator function for prime numbers less than 1000. Use the next() method to print the first 20 prime numbers."
   ]
  },
  {
   "cell_type": "code",
   "execution_count": 7,
   "id": "a219bdb0-8e15-41e8-bda8-ca2cdeaa0ff4",
   "metadata": {},
   "outputs": [
    {
     "name": "stdout",
     "output_type": "stream",
     "text": [
      "2\n",
      "3\n",
      "5\n",
      "7\n",
      "11\n",
      "13\n",
      "17\n",
      "19\n",
      "23\n",
      "29\n",
      "31\n",
      "37\n",
      "41\n",
      "43\n",
      "47\n",
      "53\n",
      "59\n",
      "61\n",
      "67\n",
      "71\n"
     ]
    }
   ],
   "source": [
    "def primes():\n",
    "    limit = 1000\n",
    "    is_prime = [True] * limit\n",
    "    is_prime[0] = is_prime[1] = False\n",
    "\n",
    "    for i in range(2, int(limit**0.5)+1):\n",
    "        if is_prime[i]:\n",
    "            for j in range(i*i, limit, i):\n",
    "                is_prime[j] = False\n",
    "\n",
    "    for i in range(2, limit):\n",
    "        if is_prime[i]:\n",
    "            yield i\n",
    "prime_generator = primes()\n",
    "\n",
    "for i in range(20):\n",
    "    print(next(prime_generator))\n"
   ]
  },
  {
   "cell_type": "code",
   "execution_count": null,
   "id": "4ba8f64b-c279-4b39-9eae-3c3378e9b2c0",
   "metadata": {},
   "outputs": [],
   "source": [
    "#Q6. Write a python program to print the first 10 Fibonacci numbers using a while loop."
   ]
  },
  {
   "cell_type": "code",
   "execution_count": 8,
   "id": "a3f0db2b-e8cd-4f71-bfb1-16aa5d0bf83e",
   "metadata": {},
   "outputs": [
    {
     "name": "stdout",
     "output_type": "stream",
     "text": [
      "1\n",
      "1\n",
      "2\n",
      "3\n",
      "5\n",
      "8\n",
      "13\n",
      "21\n",
      "34\n",
      "55\n"
     ]
    }
   ],
   "source": [
    "a = 0\n",
    "b = 1\n",
    "count = 0\n",
    "\n",
    "while count < 10:\n",
    "    print(b)\n",
    "    c = a + b\n",
    "    a = b\n",
    "    b = c\n",
    "    count += 1\n"
   ]
  },
  {
   "cell_type": "code",
   "execution_count": 9,
   "id": "cf4ba0d6-434a-4b7d-ba60-7a8ab706f8e0",
   "metadata": {},
   "outputs": [],
   "source": [
    "#Q7. Write a List Comprehension to iterate through the given string: ‘pwskills’.\n",
    "# Expected output: ['p', 'w', 's', 'k', 'i', 'l', 'l', 's']"
   ]
  },
  {
   "cell_type": "code",
   "execution_count": 10,
   "id": "b451799b-7a4c-403a-9368-3645080f4fda",
   "metadata": {},
   "outputs": [
    {
     "name": "stdout",
     "output_type": "stream",
     "text": [
      "['p', 'w', 's', 'k', 'i', 'l', 'l', 's']\n"
     ]
    }
   ],
   "source": [
    "string = 'pwskills'\n",
    "output_list = [char for char in string if char in 'pwskills']\n",
    "\n",
    "print(output_list)\n"
   ]
  },
  {
   "cell_type": "code",
   "execution_count": 11,
   "id": "1098956d-7f4b-4742-852c-a3bfc0a61d7c",
   "metadata": {},
   "outputs": [],
   "source": [
    "#Q8. Write a python program to check whether a given number is Palindrome or not using a while loop."
   ]
  },
  {
   "cell_type": "code",
   "execution_count": 14,
   "id": "dfb6e1e3-680a-47e2-a526-d58c0dbdf1e8",
   "metadata": {},
   "outputs": [
    {
     "name": "stdin",
     "output_type": "stream",
     "text": [
      "Enter a number:  33\n"
     ]
    },
    {
     "name": "stdout",
     "output_type": "stream",
     "text": [
      "The number is a palindrome.\n"
     ]
    }
   ],
   "source": [
    "number = int(input(\"Enter a number: \"))\n",
    "original_number = number\n",
    "reverse_number = 0\n",
    "\n",
    "while number > 0:\n",
    "    digit = number % 10\n",
    "    reverse_number = reverse_number * 10 + digit\n",
    "    number = number // 10\n",
    "\n",
    "if original_number == reverse_number:\n",
    "    print(\"The number is a palindrome.\")\n",
    "else:\n",
    "    print(\"The number is not a palindrome.\")\n"
   ]
  },
  {
   "cell_type": "code",
   "execution_count": 16,
   "id": "9fc0ff94-94fd-469c-b4d5-ca343353c462",
   "metadata": {},
   "outputs": [],
   "source": [
    "#Q9. Write a code to print odd numbers from 1 to 100 using list comprehension.\n",
    "#Note: Use a list comprehension to create a list from 1 to 100 and use another List comprehension to filter\n",
    "#      out odd numbers."
   ]
  },
  {
   "cell_type": "code",
   "execution_count": 18,
   "id": "46d2c3d6-933f-4221-b62e-d70dd98847e7",
   "metadata": {},
   "outputs": [
    {
     "name": "stdout",
     "output_type": "stream",
     "text": [
      "[1, 3, 5, 7, 9, 11, 13, 15, 17, 19, 21, 23, 25, 27, 29, 31, 33, 35, 37, 39, 41, 43, 45, 47, 49, 51, 53, 55, 57, 59, 61, 63, 65, 67, 69, 71, 73, 75, 77, 79, 81, 83, 85, 87, 89, 91, 93, 95, 97, 99]\n"
     ]
    }
   ],
   "source": [
    "numbers = [num for num in range(1, 101)]\n",
    "odd_numbers = [num for num in range(1, 101) if num % 2 != 0]\n",
    "\n",
    "print(odd_numbers)\n"
   ]
  },
  {
   "cell_type": "code",
   "execution_count": null,
   "id": "e793aeb3-5c9e-4970-84fb-9e7affecb827",
   "metadata": {},
   "outputs": [],
   "source": []
  }
 ],
 "metadata": {
  "kernelspec": {
   "display_name": "Python 3 (ipykernel)",
   "language": "python",
   "name": "python3"
  },
  "language_info": {
   "codemirror_mode": {
    "name": "ipython",
    "version": 3
   },
   "file_extension": ".py",
   "mimetype": "text/x-python",
   "name": "python",
   "nbconvert_exporter": "python",
   "pygments_lexer": "ipython3",
   "version": "3.10.8"
  }
 },
 "nbformat": 4,
 "nbformat_minor": 5
}
